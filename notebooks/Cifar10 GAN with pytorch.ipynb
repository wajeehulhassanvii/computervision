{
 "cells": [
  {
   "cell_type": "markdown",
   "metadata": {},
   "source": [
    "G - generative\n",
    "D - Discriminator\n",
    "\n",
    "G neural network, takes random noise signal and output some image, theif trying to steal\n",
    "D another neural network, rivaling generator, police trying to detect, understands what the generator is trying to do"
   ]
  },
  {
   "cell_type": "markdown",
   "metadata": {},
   "source": [
    "### APPLICATIONS"
   ]
  },
  {
   "cell_type": "markdown",
   "metadata": {},
   "source": [
    "generating images<br>\n",
    "image modification<br>\n",
    "super resolution<br>\n",
    "assisting artists<br>\n",
    "photo-realistic images<br>\n",
    "speech recognition<br>\n",
    "face aging"
   ]
  },
  {
   "cell_type": "markdown",
   "metadata": {},
   "source": [
    "image generation is the main application"
   ]
  },
  {
   "cell_type": "markdown",
   "metadata": {},
   "source": [
    "## import libraries"
   ]
  },
  {
   "cell_type": "code",
   "execution_count": null,
   "metadata": {},
   "outputs": [],
   "source": [
    "from __future__ import print_function\n",
    "import torch\n",
    "import torch.nn as nn\n",
    "import torch.nn.parallel\n",
    "import torch.optim as optim\n",
    "import torch.utils.data\n",
    "import torchvision.datasets as dset\n",
    "import torchvision.transforms as transforms\n",
    "import torchvision.utils as vutils\n",
    "from torch.autograd import Variable"
   ]
  },
  {
   "cell_type": "code",
   "execution_count": null,
   "metadata": {},
   "outputs": [],
   "source": [
    "batchsize = 64\n",
    "imagesize = 64"
   ]
  },
  {
   "cell_type": "code",
   "execution_count": null,
   "metadata": {},
   "outputs": [],
   "source": [
    "transform = transforms.Compose([transforms.Scale(imagesize),\n",
    "                                transforms.ToTensor(),\n",
    "                                transforms.Normalize(\n",
    "                                    (0.5, 0.5, 0.5),\n",
    "                                    (0.5, 0.5, 0.5)\n",
    "                                ),\n",
    "                               ]) # We create a list of transformations (scaling, tensor conversion, normalization) to apply to the input images."
   ]
  },
  {
   "cell_type": "markdown",
   "metadata": {},
   "source": [
    "### load dataset"
   ]
  },
  {
   "cell_type": "code",
   "execution_count": null,
   "metadata": {},
   "outputs": [],
   "source": [
    "! ls ../datasets/gan_cifar10/data"
   ]
  },
  {
   "cell_type": "code",
   "execution_count": null,
   "metadata": {},
   "outputs": [],
   "source": [
    "dataset = dset.CIFAR10(root = '../datasets/gan_cifar10/data',\n",
    "                      download = True, transform = transform)"
   ]
  },
  {
   "cell_type": "markdown",
   "metadata": {},
   "source": [
    "dataloader gives us data batch to batch"
   ]
  },
  {
   "cell_type": "code",
   "execution_count": null,
   "metadata": {},
   "outputs": [],
   "source": [
    "dataloader = torch.utils.data.DataLoader(dataset, batch_size = batchsize,\n",
    "                                        shuffle=True, num_workers=2)"
   ]
  },
  {
   "cell_type": "markdown",
   "metadata": {},
   "source": [
    "weights will take neural network and initialize weights for both networks"
   ]
  },
  {
   "cell_type": "code",
   "execution_count": null,
   "metadata": {},
   "outputs": [],
   "source": [
    "def weights_init(m):\n",
    "    classname = m.__class__.__name__\n",
    "    if classname.find('Conv') != -1:\n",
    "        m.weight.data.normal_(0.0, 0.02)\n",
    "    elif classname.find('BatchNorm') != -1:\n",
    "        m.weight.data.normal_(1.0, 0.02)\n",
    "        m.bias.data.fill_(0)"
   ]
  },
  {
   "cell_type": "markdown",
   "metadata": {},
   "source": [
    "defining generator, its neural network and forward function"
   ]
  },
  {
   "cell_type": "code",
   "execution_count": null,
   "metadata": {},
   "outputs": [],
   "source": [
    "class G(nn.Module):\n",
    "    \n",
    "    def __init__(self):\n",
    "        ''' initialize the generator neural network'''\n",
    "        super(G, self).__init__()\n",
    "        \n",
    "        self.main = nn.Sequential( # We create a meta module of a neural network that will contain a sequence of modules (convolutions, full connections, etc.).\n",
    "            nn.ConvTranspose2d(100, 512, 4, 1, 0, bias = False), # We start with an inversed convolution.\n",
    "            nn.BatchNorm2d(512), # We normalize all the features along the dimension of the batch.\n",
    "            nn.ReLU(True), # We apply a ReLU rectification to break the linearity.\n",
    "            nn.ConvTranspose2d(512, 256, 4, 2, 1, bias = False), # We add another inversed convolution.\n",
    "            nn.BatchNorm2d(256), # We normalize again.\n",
    "            nn.ReLU(True), # We apply another ReLU.\n",
    "            nn.ConvTranspose2d(256, 128, 4, 2, 1, bias = False), # We add another inversed convolution.\n",
    "            nn.BatchNorm2d(128), # We normalize again.\n",
    "            nn.ReLU(True), # We apply another ReLU.\n",
    "            nn.ConvTranspose2d(128, 64, 4, 2, 1, bias = False), # We add another inversed convolution.\n",
    "            nn.BatchNorm2d(64), # We normalize again.\n",
    "            nn.ReLU(True), # We apply another ReLU.\n",
    "            nn.ConvTranspose2d(64, 3, 4, 2, 1, bias = False), # We add another inversed convolution.\n",
    "            nn.Tanh() # We apply a Tanh rectification to break the linearity and stay between -1 and +1.\n",
    "        )\n",
    "        \n",
    "    def forward(self, input):\n",
    "        ''' it takes in the network, forward propagate and returns \n",
    "        the generated image'''\n",
    "        output = self.main(input) # forward propagate through whole nw\n",
    "        return output # return o/p containint generated image"
   ]
  },
  {
   "cell_type": "markdown",
   "metadata": {},
   "source": [
    "##### creating Generator object "
   ]
  },
  {
   "cell_type": "code",
   "execution_count": null,
   "metadata": {},
   "outputs": [],
   "source": [
    "netG = G() # create generator object\n",
    "netG.apply(weights_init) # initialize all the weights of its neural network"
   ]
  },
  {
   "cell_type": "markdown",
   "metadata": {},
   "source": [
    "## defining discriminator, its neural network and forward function"
   ]
  },
  {
   "cell_type": "code",
   "execution_count": null,
   "metadata": {},
   "outputs": [],
   "source": [
    "class D(nn.Module):\n",
    "    \n",
    "    def __init__(self):\n",
    "        '''initialize discriminator neural network'''\n",
    "        super(D, self).__init__()\n",
    "        \n",
    "        self.main = nn.Sequential(\n",
    "            \n",
    "        nn.Conv2d(3, 64, 4, 2, 1, bias = False),\n",
    "        nn.LeakyReLU(0.2, inplace = True),\n",
    "        nn.Conv2d(64, 128, 4, 2, 1, bias = False),\n",
    "        nn.BatchNorm2d(128),\n",
    "        nn.LeakyReLU(0.2, inplace = True),\n",
    "        nn.Conv2d(128, 256, 4, 2, 1, bias = True),\n",
    "        nn.BatchNorm2d(256),\n",
    "        nn.LeakyReLU(0.2, inplace = True),\n",
    "        nn.Conv2d(256, 512, 4, 2, 1, bias = False),\n",
    "        nn.BatchNorm2d(512),\n",
    "        nn.LeakyReLU(0.2, inplace = True),\n",
    "        nn.Conv2d(512, 1, 4, 1, 0, bias = False),\n",
    "        nn.Sigmoid()\n",
    "            \n",
    "        )\n",
    "        \n",
    "    def forward(self, input):\n",
    "        output = self.main(input) # forward propagate through whole nw\n",
    "        return output.view(-1) # return output value b/w 0 or 1"
   ]
  },
  {
   "cell_type": "markdown",
   "metadata": {},
   "source": [
    "##### creating discriminator object"
   ]
  },
  {
   "cell_type": "markdown",
   "metadata": {},
   "source": [
    "torch.module.apply(fn) Applies fn recursively to every submodule (as returned by .children()) as well as self. Typical use includes initializing the parameters of a model"
   ]
  },
  {
   "cell_type": "code",
   "execution_count": null,
   "metadata": {},
   "outputs": [],
   "source": [
    "netD = D() # create discriminator object\n",
    "netD.apply(weights_init) # initialize all the weightsof its neural network"
   ]
  },
  {
   "cell_type": "markdown",
   "metadata": {},
   "source": [
    "### training DCGANs "
   ]
  },
  {
   "cell_type": "code",
   "execution_count": null,
   "metadata": {},
   "outputs": [],
   "source": [
    "criterion = nn.BCELoss() # Criterion will measure the error between prediction and target"
   ]
  },
  {
   "cell_type": "code",
   "execution_count": null,
   "metadata": {},
   "outputs": [],
   "source": [
    "# optimizer for the discriminator\n",
    "optimizerD = optim.Adam(netD.parameters(), lr= 0.0002,\n",
    "                        betas = (0.5, 0.999))"
   ]
  },
  {
   "cell_type": "code",
   "execution_count": null,
   "metadata": {},
   "outputs": [],
   "source": [
    "# optimizer for the generator\n",
    "optimizerG = optim.Adam(netG.parameters(), lr = 0.0002,\n",
    "                       betas = (0.5, 0.999))"
   ]
  },
  {
   "cell_type": "code",
   "execution_count": null,
   "metadata": {},
   "outputs": [],
   "source": [
    "total_epochs = 25"
   ]
  },
  {
   "cell_type": "code",
   "execution_count": null,
   "metadata": {},
   "outputs": [],
   "source": [
    "for epoch in range(total_epochs):\n",
    "    for i, data in enumerate(dataloader, 0): # iterate over image of dataset\n",
    "        # 1st step: Updating weights of neural network of discriminator\n",
    "        netD.zero_grad() # we initialize to 0 the gradients of the discriminator w.r.t its weights\n",
    "        # Training discriminator with real image of the dataset which will be used to train the discriminator\n",
    "        real, _ = data # we get a real image of dataset which will train the discriminator\n",
    "        input = Variable(real) # we wrap it in a Variable\n",
    "        target = Variable(torch.ones(input.size()[0])) # we get the target\n",
    "        output = netD(input) # we forward propagate this real image into nn of discriminator to get prediction between 1 or 0\n",
    "        errD_real = criterion(output, target) # we compute loss b/w predictions op and target equal to 1\n",
    "        \n",
    "        # Training the discriminator with a fake image generated by generator\n",
    "        noise = Variable(torch.randn(input.size()[0], 100, 1, 1)) # made a random input vector (noise) of the generator\n",
    "        fake = netG(noise) # we forward propagate this random input vector into nn of generator to get some fake generated image\n",
    "        target = Variable(torch.zeros(input.size()[0])) # we get the target\n",
    "        output = netD(fake.detach()) # we forward propagate the fake generated image into the network of the discriminator to get the prediction between 0 or 1\n",
    "        errD_fake = criterion(output, target) # we compute thhe loss b/w prediction (output) and the target (equal to 0)\n",
    "        \n",
    "        #BCK PROPAGATING THE TOTAL ERROR\n",
    "        errD = errD_real + errD_fake # we compute total error of discriminator\n",
    "        errD.backward() # we backpropagate the loss error by computing the gradients of total respect to the weights of the discriminator\n",
    "        optimizerD.step() #we apply the optimizer to update the weights according to how much they are responsible for the loss of the discriminator\n",
    "        \n",
    "        # 2nd step: updating the weights of the neural network of the generator\n",
    "        netG.zero_grad() # initialize to the 0 the gradients of the generator with respect to the weights\n",
    "        target = Variable(torch.ones(input.size()[0])) # we get the target\n",
    "        output = netD(fake) # we forward propagate the fake generated images into the neural of the discriminator to get the prediction (val bw 0 and 1)\n",
    "        errG = criterion(output, target) # we compute the loss error by computing the gradients of the total with respoect to the weights of the generator\n",
    "        optimizerG.step() # we apply optimizer to update the weights according to how much they are responsible for the loss error of the generator\n",
    "        \n",
    "        # 3rd Step: printing the losses and saving the real image and the generated image of the minibatch every 100 steps\n",
    "        print('[%d/%d][%d/%d] Loss_D: %.4f Loss_G: %.4f' % (epoch, 25, i, len(dataloader), errD.item(), errG.item())) # We print les losses of the discriminator (Loss_D) and the generator (Loss_G).\n",
    "        \n",
    "        if i % 100 == 0:\n",
    "            vutils.save_image(real, '%s/real_samples.png' % \"../datasets/gan_cifar10/results/\", normalize = True) # We save the real images of the minibatch.\n",
    "            fake = netG(noise) #We get our fake generated images.\n",
    "            vutils.save_image(fake.data, '%s/fake_samples_epoch_%03d.png' % (\"../datasets/gan_cifar10/results/\", epoch), normalize = True) # We also save the fake generated images of the minibatch.\n",
    "        "
   ]
  },
  {
   "cell_type": "code",
   "execution_count": null,
   "metadata": {},
   "outputs": [],
   "source": []
  }
 ],
 "metadata": {
  "kernelspec": {
   "display_name": "Python 3",
   "language": "python",
   "name": "python3"
  },
  "language_info": {
   "codemirror_mode": {
    "name": "ipython",
    "version": 3
   },
   "file_extension": ".py",
   "mimetype": "text/x-python",
   "name": "python",
   "nbconvert_exporter": "python",
   "pygments_lexer": "ipython3",
   "version": "3.7.6"
  }
 },
 "nbformat": 4,
 "nbformat_minor": 4
}
