{
 "cells": [
  {
   "cell_type": "markdown",
   "metadata": {},
   "source": [
    "boudiing box can be represented in one of the following ways<br>\n",
    "[x0, y0, w, h]<br>\n",
    "[x0, y0, x1, y1]<br>\n",
    "[xc, yc, w, h]<br>"
   ]
  },
  {
   "cell_type": "markdown",
   "metadata": {},
   "source": [
    "#### exploratory data analysis "
   ]
  },
  {
   "cell_type": "markdown",
   "metadata": {},
   "source": [
    "performed to understand characteristics of the data. we will inspect our dataset and visualize samples or statistical features of our data using boxplots, histograms, and other visualization tools. For instance, for tabular data, we would like to see the columns, a few rows, a number of records, and statistical metrics, such as the mean and standard deviation of our data. For imaging data, we would display sample images, labels, or bounding boxes of the objects in the images."
   ]
  },
  {
   "cell_type": "markdown",
   "metadata": {},
   "source": [
    "note: in this notebook we are only interested in localization otherwise object detection also involves classification and segmentation "
   ]
  },
  {
   "cell_type": "markdown",
   "metadata": {},
   "source": [
    "dataset link: https://refuge.grand-challenge.org/iChallenge-AMD/"
   ]
  },
  {
   "cell_type": "code",
   "execution_count": 1,
   "metadata": {},
   "outputs": [
    {
     "name": "stdout",
     "output_type": "stream",
     "text": [
      "AMD  Fovea_location.xlsx  Non-AMD\r\n"
     ]
    }
   ],
   "source": [
    "!ls ../datasets/c4-pytorch-ssd-amd-iChallenge/Training400"
   ]
  },
  {
   "cell_type": "markdown",
   "metadata": {},
   "source": [
    "#### importing libraries "
   ]
  },
  {
   "cell_type": "code",
   "execution_count": 2,
   "metadata": {},
   "outputs": [
    {
     "data": {
      "text/html": [
       "<div>\n",
       "<style scoped>\n",
       "    .dataframe tbody tr th:only-of-type {\n",
       "        vertical-align: middle;\n",
       "    }\n",
       "\n",
       "    .dataframe tbody tr th {\n",
       "        vertical-align: top;\n",
       "    }\n",
       "\n",
       "    .dataframe thead th {\n",
       "        text-align: right;\n",
       "    }\n",
       "</style>\n",
       "<table border=\"1\" class=\"dataframe\">\n",
       "  <thead>\n",
       "    <tr style=\"text-align: right;\">\n",
       "      <th></th>\n",
       "      <th>imgName</th>\n",
       "      <th>Fovea_X</th>\n",
       "      <th>Fovea_Y</th>\n",
       "    </tr>\n",
       "    <tr>\n",
       "      <th>ID</th>\n",
       "      <th></th>\n",
       "      <th></th>\n",
       "      <th></th>\n",
       "    </tr>\n",
       "  </thead>\n",
       "  <tbody>\n",
       "    <tr>\n",
       "      <th>1</th>\n",
       "      <td>A0001.jpg</td>\n",
       "      <td>1182.264278</td>\n",
       "      <td>1022.018842</td>\n",
       "    </tr>\n",
       "    <tr>\n",
       "      <th>2</th>\n",
       "      <td>A0002.jpg</td>\n",
       "      <td>967.754046</td>\n",
       "      <td>1016.946655</td>\n",
       "    </tr>\n",
       "    <tr>\n",
       "      <th>3</th>\n",
       "      <td>A0003.jpg</td>\n",
       "      <td>1220.206714</td>\n",
       "      <td>989.944033</td>\n",
       "    </tr>\n",
       "    <tr>\n",
       "      <th>4</th>\n",
       "      <td>A0004.jpg</td>\n",
       "      <td>1141.140888</td>\n",
       "      <td>1000.594955</td>\n",
       "    </tr>\n",
       "    <tr>\n",
       "      <th>5</th>\n",
       "      <td>A0005.jpg</td>\n",
       "      <td>1127.371832</td>\n",
       "      <td>1071.109440</td>\n",
       "    </tr>\n",
       "  </tbody>\n",
       "</table>\n",
       "</div>"
      ],
      "text/plain": [
       "      imgName      Fovea_X      Fovea_Y\n",
       "ID                                     \n",
       "1   A0001.jpg  1182.264278  1022.018842\n",
       "2   A0002.jpg   967.754046  1016.946655\n",
       "3   A0003.jpg  1220.206714   989.944033\n",
       "4   A0004.jpg  1141.140888  1000.594955\n",
       "5   A0005.jpg  1127.371832  1071.109440"
      ]
     },
     "execution_count": 2,
     "metadata": {},
     "output_type": "execute_result"
    }
   ],
   "source": [
    "import os\n",
    "import pandas as pd\n",
    "\n",
    "path2data=\"../datasets/c4-pytorch-ssd-amd-iChallenge/\"\n",
    "\n",
    "path2labels=os.path.join(path2data, \"Training400\", \"Fovea_location.xlsx\")\n",
    "\n",
    "# make sure to install xlrd\n",
    "labels_df = pd.read_excel(path2labels, index_col=\"ID\")\n",
    "\n",
    "labels_df.head()"
   ]
  },
  {
   "cell_type": "code",
   "execution_count": 3,
   "metadata": {},
   "outputs": [
    {
     "data": {
      "text/html": [
       "<div>\n",
       "<style scoped>\n",
       "    .dataframe tbody tr th:only-of-type {\n",
       "        vertical-align: middle;\n",
       "    }\n",
       "\n",
       "    .dataframe tbody tr th {\n",
       "        vertical-align: top;\n",
       "    }\n",
       "\n",
       "    .dataframe thead th {\n",
       "        text-align: right;\n",
       "    }\n",
       "</style>\n",
       "<table border=\"1\" class=\"dataframe\">\n",
       "  <thead>\n",
       "    <tr style=\"text-align: right;\">\n",
       "      <th></th>\n",
       "      <th>imgName</th>\n",
       "      <th>Fovea_X</th>\n",
       "      <th>Fovea_Y</th>\n",
       "    </tr>\n",
       "    <tr>\n",
       "      <th>ID</th>\n",
       "      <th></th>\n",
       "      <th></th>\n",
       "      <th></th>\n",
       "    </tr>\n",
       "  </thead>\n",
       "  <tbody>\n",
       "    <tr>\n",
       "      <th>396</th>\n",
       "      <td>N0307.jpg</td>\n",
       "      <td>823.024991</td>\n",
       "      <td>690.210211</td>\n",
       "    </tr>\n",
       "    <tr>\n",
       "      <th>397</th>\n",
       "      <td>N0308.jpg</td>\n",
       "      <td>647.598978</td>\n",
       "      <td>795.653188</td>\n",
       "    </tr>\n",
       "    <tr>\n",
       "      <th>398</th>\n",
       "      <td>N0309.jpg</td>\n",
       "      <td>624.571803</td>\n",
       "      <td>755.694880</td>\n",
       "    </tr>\n",
       "    <tr>\n",
       "      <th>399</th>\n",
       "      <td>N0310.jpg</td>\n",
       "      <td>687.523044</td>\n",
       "      <td>830.449187</td>\n",
       "    </tr>\n",
       "    <tr>\n",
       "      <th>400</th>\n",
       "      <td>N0311.jpg</td>\n",
       "      <td>746.107631</td>\n",
       "      <td>759.623062</td>\n",
       "    </tr>\n",
       "  </tbody>\n",
       "</table>\n",
       "</div>"
      ],
      "text/plain": [
       "       imgName     Fovea_X     Fovea_Y\n",
       "ID                                    \n",
       "396  N0307.jpg  823.024991  690.210211\n",
       "397  N0308.jpg  647.598978  795.653188\n",
       "398  N0309.jpg  624.571803  755.694880\n",
       "399  N0310.jpg  687.523044  830.449187\n",
       "400  N0311.jpg  746.107631  759.623062"
      ]
     },
     "execution_count": 3,
     "metadata": {},
     "output_type": "execute_result"
    }
   ],
   "source": [
    "labels_df.tail()"
   ]
  },
  {
   "cell_type": "markdown",
   "metadata": {},
   "source": [
    "#### scatter plotting fovea X and Y coordinates"
   ]
  },
  {
   "cell_type": "code",
   "execution_count": 4,
   "metadata": {},
   "outputs": [
    {
     "data": {
      "text/plain": [
       "<matplotlib.axes._subplots.AxesSubplot at 0x7faf4a229e90>"
      ]
     },
     "execution_count": 4,
     "metadata": {},
     "output_type": "execute_result"
    },
    {
     "data": {
      "image/png": "[encoded data removed]",
      "text/plain": [
       "<Figure size 432x288 with 1 Axes>"
      ]
     },
     "metadata": {
      "needs_background": "light"
     },
     "output_type": "display_data"
    }
   ],
   "source": [
    "import seaborn as sns\n",
    "%matplotlib inline\n",
    "\n",
    "AorN=[imn[0] for imn in labels_df.imgName]\n",
    "sns.scatterplot(x=labels_df['Fovea_X'], y=labels_df['Fovea_Y'],hue=AorN)"
   ]
  },
  {
   "cell_type": "code",
   "execution_count": 5,
   "metadata": {},
   "outputs": [],
   "source": [
    "import numpy as np\n",
    "from PIL import Image, ImageDraw\n",
    "import matplotlib.pylab as plt\n",
    "\n",
    "# fix random seed\n",
    "np.random.seed(2019)"
   ]
  },
  {
   "cell_type": "markdown",
   "metadata": {},
   "source": [
    "set plot parameters"
   ]
  },
  {
   "cell_type": "code",
   "execution_count": 6,
   "metadata": {},
   "outputs": [
    {
     "data": {
      "text/plain": [
       "<Figure size 1080x648 with 0 Axes>"
      ]
     },
     "metadata": {},
     "output_type": "display_data"
    }
   ],
   "source": [
    "plt.rcParams['figure.figsize'] = (15, 9)\n",
    "plt.subplots_adjust(wspace=0, hspace=0.3)\n",
    "nrows,ncols=2,3"
   ]
  },
  {
   "cell_type": "markdown",
   "metadata": {},
   "source": [
    "select set of random images"
   ]
  },
  {
   "cell_type": "code",
   "execution_count": 7,
   "metadata": {},
   "outputs": [
    {
     "name": "stdout",
     "output_type": "stream",
     "text": [
      "[ 73 371 160 294 217 191]\n"
     ]
    }
   ],
   "source": [
    "imgName=labels_df[\"imgName\"]\n",
    "ids=labels_df.index\n",
    "rndIds=np.random.choice(ids,nrows*ncols)\n",
    "print(rndIds)"
   ]
  },
  {
   "cell_type": "markdown",
   "metadata": {},
   "source": [
    "##### defining a helper function to load a single image and its label from local file"
   ]
  },
  {
   "cell_type": "code",
   "execution_count": 9,
   "metadata": {},
   "outputs": [
    {
     "ename": "IndentationError",
     "evalue": "unindent does not match any outer indentation level (<tokenize>, line 7)",
     "output_type": "error",
     "traceback": [
      "\u001b[0;36m  File \u001b[0;32m\"<tokenize>\"\u001b[0;36m, line \u001b[0;32m7\u001b[0m\n\u001b[0;31m    fullPath2img=os.path.join(path2data,\"Training400\",prefix,imgName[id_])\u001b[0m\n\u001b[0m    ^\u001b[0m\n\u001b[0;31mIndentationError\u001b[0m\u001b[0;31m:\u001b[0m unindent does not match any outer indentation level\n"
     ]
    }
   ],
   "source": [
    "def load_img_label(labels_df,id_): \n",
    "    imgName=labels_df[\"imgName\"] \n",
    "    if imgName[id_][0]==\"A\":\n",
    "        prefix=\"AMD\"\n",
    "    else:\n",
    "        prefix=\"Non-AMD\"\n",
    "    fullPath2img=os.path.join(path2data,\"Training400\",prefix,imgName[id_])\n",
    "    img = Image.open(fullPath2img)\n",
    "    x=labels_df[\"Fovea_X\"][id_]\n",
    "    y=labels_df[\"Fovea_Y\"][id_]\n",
    "    label=(x,y)\n",
    "    return img,label"
   ]
  },
  {
   "cell_type": "markdown",
   "metadata": {},
   "source": [
    "##### now we define helper function to show the image and label as a bounding box "
   ]
  },
  {
   "cell_type": "code",
   "execution_count": null,
   "metadata": {},
   "outputs": [],
   "source": [
    "def show_img_label(img,label,w_h=(50,50),thickness=2):   \n",
    "    w,h=w_h                   \n",
    "    cx,cy=label   \n",
    "    draw = ImageDraw.Draw(img)\n",
    "    draw.rectangle(((cx-w/2, cy-h/2), (cx+w/2, cy+h/2)),outline=\"green\",width=thickness)\n",
    "    plt.imshow(np.asarray(img))"
   ]
  },
  {
   "cell_type": "markdown",
   "metadata": {},
   "source": [
    "### now show the random images with bounding boxes "
   ]
  },
  {
   "cell_type": "code",
   "execution_count": null,
   "metadata": {},
   "outputs": [],
   "source": [
    "for i,id_ in enumerate(rndIds):\n",
    "    img,label=load_img_label(labels_df,id_)   \n",
    "    print(img.size,label)\n",
    "    plt.subplot(nrows, ncols, i+1) \n",
    "    show_img_label(img,label,w_h=(150,150),thickness=20)\n",
    "    plt.title(imgName[id_])"
   ]
  },
  {
   "cell_type": "markdown",
   "metadata": {},
   "source": [
    "##### now collect image widhts and heights in two lists "
   ]
  },
  {
   "cell_type": "code",
   "execution_count": null,
   "metadata": {},
   "outputs": [],
   "source": [
    "h_list,w_list=[],[]\n",
    "for id_ in ids:\n",
    "    if imgName[id_][0]==\"A\":\n",
    "        prefix=\"AMD\"\n",
    "    else:\n",
    "        prefix=\"Non-AMD\"\n",
    "    fullPath2img=os.path.join(path2data,\"Training400\",prefix,imgName[id_])\n",
    "    img = Image.open(fullPath2img)\n",
    "    h,w=img.size\n",
    "    h_list.append(h)\n",
    "    w_list.append(w)"
   ]
  },
  {
   "cell_type": "markdown",
   "metadata": {},
   "source": [
    "##### now plot distributions of image heights "
   ]
  },
  {
   "cell_type": "code",
   "execution_count": null,
   "metadata": {},
   "outputs": [],
   "source": [
    "sns.distplot(a=h_list, kde=False)"
   ]
  },
  {
   "cell_type": "markdown",
   "metadata": {},
   "source": [
    "##### now plot distribution of image widths "
   ]
  },
  {
   "cell_type": "code",
   "execution_count": null,
   "metadata": {},
   "outputs": [],
   "source": [
    "sns.distplot(a=w_list, kde=False)"
   ]
  },
  {
   "cell_type": "markdown",
   "metadata": {},
   "source": [
    "## DATA TRANSFORMATION "
   ]
  },
  {
   "cell_type": "markdown",
   "metadata": {},
   "source": [
    "#####  we will define a helper function for resizing image"
   ]
  },
  {
   "cell_type": "code",
   "execution_count": null,
   "metadata": {},
   "outputs": [],
   "source": [
    "import torchvision.transforms.functional as TF\n",
    "\n",
    "def resize_img_label(image,label=(0.,0.),target_size=(256,256)):\n",
    "    w_orig,h_orig = image.size   \n",
    "    w_target,h_target = target_size\n",
    "    cx, cy= label\n",
    "    \n",
    "    image_new = TF.resize(image,target_size)\n",
    "    label_new= cx/w_orig*w_target, cy/h_orig*h_target\n",
    "    \n",
    "    return image_new,label_new"
   ]
  },
  {
   "cell_type": "markdown",
   "metadata": {},
   "source": [
    "##### check image resizer "
   ]
  },
  {
   "cell_type": "code",
   "execution_count": null,
   "metadata": {},
   "outputs": [],
   "source": [
    "img, label=load_img_label(labels_df,1)   \n",
    "print(img.size,label)\n",
    "\n",
    "img_r,label_r=resize_img_label(img,label)\n",
    "print(img_r.size,label_r)\n",
    "\n",
    "plt.subplot(1,2,1)\n",
    "show_img_label(img,label,w_h=(150,150),thickness=20)\n",
    "plt.subplot(1,2,2)\n",
    "show_img_label(img_r,label_r)"
   ]
  },
  {
   "cell_type": "code",
   "execution_count": null,
   "metadata": {},
   "outputs": [],
   "source": []
  },
  {
   "cell_type": "code",
   "execution_count": null,
   "metadata": {},
   "outputs": [],
   "source": []
  },
  {
   "cell_type": "code",
   "execution_count": null,
   "metadata": {},
   "outputs": [],
   "source": []
  },
  {
   "cell_type": "code",
   "execution_count": null,
   "metadata": {},
   "outputs": [],
   "source": []
  },
  {
   "cell_type": "code",
   "execution_count": null,
   "metadata": {},
   "outputs": [],
   "source": []
  },
  {
   "cell_type": "code",
   "execution_count": null,
   "metadata": {},
   "outputs": [],
   "source": []
  }
 ],
 "metadata": {
  "kernelspec": {
   "display_name": "Python 3",
   "language": "python",
   "name": "python3"
  },
  "language_info": {
   "codemirror_mode": {
    "name": "ipython",
    "version": 3
   },
   "file_extension": ".py",
   "mimetype": "text/x-python",
   "name": "python",
   "nbconvert_exporter": "python",
   "pygments_lexer": "ipython3",
   "version": "3.7.6"
  }
 },
 "nbformat": 4,
 "nbformat_minor": 4
}
