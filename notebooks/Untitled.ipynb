{
 "cells": [
  {
   "cell_type": "markdown",
   "metadata": {},
   "source": [
    "##### download dataset from here\n",
    "! wget wget https://ndownloader.figshare.com/files/12855005"
   ]
  },
  {
   "cell_type": "markdown",
   "metadata": {},
   "source": [
    "rename downloaded dataset by mv to .rar file, then extract with unrar"
   ]
  },
  {
   "cell_type": "code",
   "execution_count": 2,
   "metadata": {},
   "outputs": [
    {
     "name": "stdout",
     "output_type": "stream",
     "text": [
      "000  007  014  021  028  035  042  049\t056  063  070  077  084  091  098\r\n",
      "001  008  015  022  029  036  043  050\t057  064  071  078  085  092  099\r\n",
      "002  009  016  023  030  037  044  051\t058  065  072  079  086  093  100\r\n",
      "003  010  017  024  031  038  045  052\t059  066  073  080  087  094  101\r\n",
      "004  011  018  025  032  039  046  053\t060  067  074  081  088  095\r\n",
      "005  012  019  026  033  040  047  054\t061  068  075  082  089  096\r\n",
      "006  013  020  027  034  041  048  055\t062  069  076  083  090  097\r\n"
     ]
    }
   ],
   "source": [
    "! ls ../datasets/Caltech101/"
   ]
  },
  {
   "cell_type": "code",
   "execution_count": null,
   "metadata": {},
   "outputs": [],
   "source": []
  },
  {
   "cell_type": "code",
   "execution_count": null,
   "metadata": {},
   "outputs": [],
   "source": []
  },
  {
   "cell_type": "code",
   "execution_count": null,
   "metadata": {},
   "outputs": [],
   "source": []
  },
  {
   "cell_type": "code",
   "execution_count": null,
   "metadata": {},
   "outputs": [],
   "source": []
  },
  {
   "cell_type": "code",
   "execution_count": null,
   "metadata": {},
   "outputs": [],
   "source": []
  },
  {
   "cell_type": "code",
   "execution_count": null,
   "metadata": {},
   "outputs": [],
   "source": []
  },
  {
   "cell_type": "code",
   "execution_count": null,
   "metadata": {},
   "outputs": [],
   "source": []
  },
  {
   "cell_type": "code",
   "execution_count": null,
   "metadata": {},
   "outputs": [],
   "source": []
  },
  {
   "cell_type": "code",
   "execution_count": null,
   "metadata": {},
   "outputs": [],
   "source": []
  },
  {
   "cell_type": "code",
   "execution_count": null,
   "metadata": {},
   "outputs": [],
   "source": []
  }
 ],
 "metadata": {
  "kernelspec": {
   "display_name": "Python 3",
   "language": "python",
   "name": "python3"
  },
  "language_info": {
   "codemirror_mode": {
    "name": "ipython",
    "version": 3
   },
   "file_extension": ".py",
   "mimetype": "text/x-python",
   "name": "python",
   "nbconvert_exporter": "python",
   "pygments_lexer": "ipython3",
   "version": "3.7.6"
  }
 },
 "nbformat": 4,
 "nbformat_minor": 4
}
